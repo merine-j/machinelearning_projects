{
 "cells": [
  {
   "cell_type": "code",
   "execution_count": 2,
   "id": "aff573c8",
   "metadata": {},
   "outputs": [],
   "source": [
    "# emotion_svm_classifier.py\n",
    "\n",
    "import pandas as pd\n",
    "import re\n",
    "from sklearn.model_selection import train_test_split\n",
    "from sklearn.feature_extraction.text import TfidfVectorizer\n",
    "from sklearn.svm import SVC\n",
    "from sklearn.metrics import accuracy_score, classification_report"
   ]
  },
  {
   "cell_type": "code",
   "execution_count": 3,
   "id": "37d06e28",
   "metadata": {},
   "outputs": [],
   "source": [
    "df=pd.read_csv('emotions.csv')\n",
    "dff = df.head(10000)"
   ]
  },
  {
   "cell_type": "code",
   "execution_count": 4,
   "id": "768be36b",
   "metadata": {},
   "outputs": [
    {
     "data": {
      "text/html": [
       "<div>\n",
       "<style scoped>\n",
       "    .dataframe tbody tr th:only-of-type {\n",
       "        vertical-align: middle;\n",
       "    }\n",
       "\n",
       "    .dataframe tbody tr th {\n",
       "        vertical-align: top;\n",
       "    }\n",
       "\n",
       "    .dataframe thead th {\n",
       "        text-align: right;\n",
       "    }\n",
       "</style>\n",
       "<table border=\"1\" class=\"dataframe\">\n",
       "  <thead>\n",
       "    <tr style=\"text-align: right;\">\n",
       "      <th></th>\n",
       "      <th>text</th>\n",
       "      <th>label</th>\n",
       "    </tr>\n",
       "  </thead>\n",
       "  <tbody>\n",
       "    <tr>\n",
       "      <th>0</th>\n",
       "      <td>i just feel really helpless and heavy hearted</td>\n",
       "      <td>4</td>\n",
       "    </tr>\n",
       "    <tr>\n",
       "      <th>1</th>\n",
       "      <td>ive enjoyed being able to slouch about relax a...</td>\n",
       "      <td>0</td>\n",
       "    </tr>\n",
       "    <tr>\n",
       "      <th>2</th>\n",
       "      <td>i gave up my internship with the dmrg and am f...</td>\n",
       "      <td>4</td>\n",
       "    </tr>\n",
       "    <tr>\n",
       "      <th>3</th>\n",
       "      <td>i dont know i feel so lost</td>\n",
       "      <td>0</td>\n",
       "    </tr>\n",
       "    <tr>\n",
       "      <th>4</th>\n",
       "      <td>i am a kindergarten teacher and i am thoroughl...</td>\n",
       "      <td>4</td>\n",
       "    </tr>\n",
       "    <tr>\n",
       "      <th>...</th>\n",
       "      <td>...</td>\n",
       "      <td>...</td>\n",
       "    </tr>\n",
       "    <tr>\n",
       "      <th>9995</th>\n",
       "      <td>i feel that shakespeare is a talented man of h...</td>\n",
       "      <td>1</td>\n",
       "    </tr>\n",
       "    <tr>\n",
       "      <th>9996</th>\n",
       "      <td>ill be attending college classes and ill have ...</td>\n",
       "      <td>1</td>\n",
       "    </tr>\n",
       "    <tr>\n",
       "      <th>9997</th>\n",
       "      <td>i am a girl and i am utterly dependent on my i...</td>\n",
       "      <td>0</td>\n",
       "    </tr>\n",
       "    <tr>\n",
       "      <th>9998</th>\n",
       "      <td>ive been feeling less inhibited</td>\n",
       "      <td>4</td>\n",
       "    </tr>\n",
       "    <tr>\n",
       "      <th>9999</th>\n",
       "      <td>ive got to say today im feeling especially gor...</td>\n",
       "      <td>1</td>\n",
       "    </tr>\n",
       "  </tbody>\n",
       "</table>\n",
       "<p>10000 rows × 2 columns</p>\n",
       "</div>"
      ],
      "text/plain": [
       "                                                   text  label\n",
       "0         i just feel really helpless and heavy hearted      4\n",
       "1     ive enjoyed being able to slouch about relax a...      0\n",
       "2     i gave up my internship with the dmrg and am f...      4\n",
       "3                            i dont know i feel so lost      0\n",
       "4     i am a kindergarten teacher and i am thoroughl...      4\n",
       "...                                                 ...    ...\n",
       "9995  i feel that shakespeare is a talented man of h...      1\n",
       "9996  ill be attending college classes and ill have ...      1\n",
       "9997  i am a girl and i am utterly dependent on my i...      0\n",
       "9998                    ive been feeling less inhibited      4\n",
       "9999  ive got to say today im feeling especially gor...      1\n",
       "\n",
       "[10000 rows x 2 columns]"
      ]
     },
     "execution_count": 4,
     "metadata": {},
     "output_type": "execute_result"
    }
   ],
   "source": [
    "dff"
   ]
  },
  {
   "cell_type": "code",
   "execution_count": 5,
   "id": "7983938c",
   "metadata": {},
   "outputs": [],
   "source": [
    "# Step 2: Text Cleaning\n",
    "def clean_text(text):\n",
    "    text = text.lower()\n",
    "    text = re.sub(r\"http\\S+|www\\S+|@\\S+|#\\S+\", \"\", text)  # Remove URLs, mentions, hashtags\n",
    "    text = re.sub(r\"[^a-z\\s]\", \"\", text)                  # Remove punctuation and numbers\n",
    "    return text.strip()\n",
    "\n",
    "df[\"text\"] = df[\"text\"].apply(clean_text)"
   ]
  },
  {
   "cell_type": "code",
   "execution_count": 6,
   "id": "5d8690a2",
   "metadata": {},
   "outputs": [],
   "source": [
    "vectorizer = TfidfVectorizer(max_features=5000, ngram_range=(1, 2))\n",
    "X = vectorizer.fit_transform(dff[\"text\"])\n",
    "y = dff[\"label\"] "
   ]
  },
  {
   "cell_type": "code",
   "execution_count": 8,
   "id": "5088803b",
   "metadata": {},
   "outputs": [],
   "source": [
    "X_train, X_test, y_train, y_test = train_test_split(X, y, test_size=0.2, stratify=y, random_state=42)\n"
   ]
  },
  {
   "cell_type": "code",
   "execution_count": 9,
   "id": "f7f2ef89",
   "metadata": {},
   "outputs": [
    {
     "name": "stdout",
     "output_type": "stream",
     "text": [
      "\n",
      "Training SVM with kernel = 'linear'...\n",
      "Validation Accuracy for linear: 0.8345\n",
      "\n",
      "Training SVM with kernel = 'rbf'...\n",
      "Validation Accuracy for rbf: 0.7495\n",
      "\n",
      "Training SVM with kernel = 'poly'...\n",
      "Validation Accuracy for poly: 0.4995\n",
      "\n",
      "Training SVM with kernel = 'sigmoid'...\n",
      "Validation Accuracy for sigmoid: 0.8345\n",
      "\n",
      "✅ Best kernel: linear with accuracy = 0.8345\n"
     ]
    }
   ],
   "source": [
    "# Try different kernels\n",
    "kernels = ['linear', 'rbf', 'poly', 'sigmoid']\n",
    "best_kernel = None\n",
    "best_model = None\n",
    "best_accuracy = 0.0\n",
    "\n",
    "for kernel in kernels:\n",
    "    print(f\"\\nTraining SVM with kernel = '{kernel}'...\")\n",
    "    model = SVC(kernel=kernel)\n",
    "    model.fit(X_train, y_train)\n",
    "    y_pred = model.predict(X_test)\n",
    "    acc = accuracy_score(y_test, y_pred)\n",
    "    \n",
    "    print(f\"Validation Accuracy for {kernel}: {acc:.4f}\")\n",
    "    \n",
    "    if acc > best_accuracy:\n",
    "        best_accuracy = acc\n",
    "        best_kernel = kernel\n",
    "        best_model = model\n",
    "\n",
    "# Report best kernel\n",
    "print(f\"\\n✅ Best kernel: {best_kernel} with accuracy = {best_accuracy:.4f}\")\n"
   ]
  },
  {
   "cell_type": "code",
   "execution_count": 10,
   "id": "f9d3d277",
   "metadata": {},
   "outputs": [
    {
     "name": "stdout",
     "output_type": "stream",
     "text": [
      "\n",
      "=== Test Set Results ===\n",
      "Accuracy: 0.8345\n",
      "Classification Report:\n",
      "               precision    recall  f1-score   support\n",
      "\n",
      "           0       0.84      0.90      0.87       587\n",
      "           1       0.81      0.93      0.86       679\n",
      "           2       0.84      0.51      0.63       158\n",
      "           3       0.89      0.79      0.84       273\n",
      "           4       0.84      0.75      0.79       230\n",
      "           5       0.87      0.55      0.67        73\n",
      "\n",
      "    accuracy                           0.83      2000\n",
      "   macro avg       0.85      0.74      0.78      2000\n",
      "weighted avg       0.84      0.83      0.83      2000\n",
      "\n"
     ]
    }
   ],
   "source": [
    "# Evaluate on test set\n",
    "y_test_pred = best_model.predict(X_test)\n",
    "print(\"\\n=== Test Set Results ===\")\n",
    "print(\"Accuracy:\", accuracy_score(y_test, y_test_pred))\n",
    "print(\"Classification Report:\\n\", classification_report(y_test, y_test_pred))"
   ]
  },
  {
   "cell_type": "code",
   "execution_count": 11,
   "id": "4878e447",
   "metadata": {},
   "outputs": [
    {
     "data": {
      "text/plain": [
       "array([1], dtype=int64)"
      ]
     },
     "execution_count": 11,
     "metadata": {},
     "output_type": "execute_result"
    }
   ],
   "source": [
    "tweet = \"I just got a promotion at work and I'm so happy!\"\n",
    "best_model.predict(vectorizer.transform([clean_text(tweet)]))"
   ]
  }
 ],
 "metadata": {
  "kernelspec": {
   "display_name": "Python 3",
   "language": "python",
   "name": "python3"
  },
  "language_info": {
   "codemirror_mode": {
    "name": "ipython",
    "version": 3
   },
   "file_extension": ".py",
   "mimetype": "text/x-python",
   "name": "python",
   "nbconvert_exporter": "python",
   "pygments_lexer": "ipython3",
   "version": "3.10.0"
  }
 },
 "nbformat": 4,
 "nbformat_minor": 5
}
